{
 "cells": [
  {
   "cell_type": "code",
   "execution_count": 82,
   "id": "lined-ethiopia",
   "metadata": {},
   "outputs": [],
   "source": [
    "import numpy as np\n",
    "import pandas as pd"
   ]
  },
  {
   "cell_type": "code",
   "execution_count": 83,
   "id": "involved-category",
   "metadata": {},
   "outputs": [],
   "source": [
    "# Time stamps reference particular moments in time (e.g., July 4th, 2015 at 7:00am).\n",
    "\n",
    "# Time intervals and periods reference a length of time between a particular beginning and end point; for example, the year 2015. \n",
    "# Periods usually reference a special case of time intervals in which each interval is of uniform length and does not overlap (e.g., 24 hour-long periods comprising days).\n",
    "\n",
    "# Time deltas or durations reference an exact length of time (e.g., a duration of 22.56 seconds)."
   ]
  },
  {
   "cell_type": "markdown",
   "id": "centered-champagne",
   "metadata": {},
   "source": [
    "# Native Python dates and times"
   ]
  },
  {
   "cell_type": "code",
   "execution_count": 84,
   "id": "satisfied-journal",
   "metadata": {},
   "outputs": [
    {
     "data": {
      "text/plain": [
       "datetime.datetime(2021, 4, 2, 0, 0)"
      ]
     },
     "execution_count": 84,
     "metadata": {},
     "output_type": "execute_result"
    }
   ],
   "source": [
    "from datetime import datetime\n",
    "datetime(year=2021, month=4, day=2)"
   ]
  },
  {
   "cell_type": "code",
   "execution_count": 85,
   "id": "painted-proportion",
   "metadata": {},
   "outputs": [],
   "source": [
    "# or using dateutil, you can parse from a variety of formats:"
   ]
  },
  {
   "cell_type": "code",
   "execution_count": 86,
   "id": "consistent-simple",
   "metadata": {},
   "outputs": [
    {
     "data": {
      "text/plain": [
       "datetime.datetime(2015, 7, 4, 0, 0)"
      ]
     },
     "execution_count": 86,
     "metadata": {},
     "output_type": "execute_result"
    }
   ],
   "source": [
    "from dateutil import parser\n",
    "date = parser.parse(\"4th of July, 2015\")\n",
    "date"
   ]
  },
  {
   "cell_type": "code",
   "execution_count": 87,
   "id": "thirty-general",
   "metadata": {},
   "outputs": [],
   "source": [
    "# once you have such a date object, you can for example print the day:"
   ]
  },
  {
   "cell_type": "code",
   "execution_count": 88,
   "id": "applicable-pickup",
   "metadata": {},
   "outputs": [
    {
     "data": {
      "text/plain": [
       "'Saturday'"
      ]
     },
     "execution_count": 88,
     "metadata": {},
     "output_type": "execute_result"
    }
   ],
   "source": [
    "date.strftime('%A')"
   ]
  },
  {
   "cell_type": "markdown",
   "id": "severe-blind",
   "metadata": {},
   "source": [
    "# Numpy's datetime64"
   ]
  },
  {
   "cell_type": "code",
   "execution_count": 89,
   "id": "italic-blackberry",
   "metadata": {},
   "outputs": [],
   "source": [
    "date_arr = np.array(['2021-02-02'], dtype=np.datetime64)"
   ]
  },
  {
   "cell_type": "code",
   "execution_count": 90,
   "id": "cultural-summary",
   "metadata": {},
   "outputs": [
    {
     "data": {
      "text/plain": [
       "array(['2021-02-02'], dtype='datetime64[D]')"
      ]
     },
     "execution_count": 90,
     "metadata": {},
     "output_type": "execute_result"
    }
   ],
   "source": [
    "date_arr"
   ]
  },
  {
   "cell_type": "code",
   "execution_count": 91,
   "id": "australian-yugoslavia",
   "metadata": {},
   "outputs": [],
   "source": [
    "# now we can do vectorized operations with this date:"
   ]
  },
  {
   "cell_type": "code",
   "execution_count": 92,
   "id": "selected-instrumentation",
   "metadata": {},
   "outputs": [
    {
     "data": {
      "text/plain": [
       "array(['2021-02-02', '2021-02-03', '2021-02-04', '2021-02-05',\n",
       "       '2021-02-06', '2021-02-07', '2021-02-08', '2021-02-09',\n",
       "       '2021-02-10', '2021-02-11', '2021-02-12', '2021-02-13'],\n",
       "      dtype='datetime64[D]')"
      ]
     },
     "execution_count": 92,
     "metadata": {},
     "output_type": "execute_result"
    }
   ],
   "source": [
    "date_arr + np.arange(12)"
   ]
  },
  {
   "cell_type": "markdown",
   "id": "french-valuation",
   "metadata": {},
   "source": [
    "# Dates and times in pandas (best of both worlds)"
   ]
  },
  {
   "cell_type": "code",
   "execution_count": 93,
   "id": "proud-studio",
   "metadata": {},
   "outputs": [
    {
     "data": {
      "text/plain": [
       "Timestamp('2019-07-04 00:00:00')"
      ]
     },
     "execution_count": 93,
     "metadata": {},
     "output_type": "execute_result"
    }
   ],
   "source": [
    "import pandas as pd\n",
    "date = pd.to_datetime(\"4th of July, 2019\")\n",
    "date"
   ]
  },
  {
   "cell_type": "code",
   "execution_count": 94,
   "id": "advised-jacksonville",
   "metadata": {},
   "outputs": [
    {
     "data": {
      "text/plain": [
       "'Thursday'"
      ]
     },
     "execution_count": 94,
     "metadata": {},
     "output_type": "execute_result"
    }
   ],
   "source": [
    "date.strftime('%A')"
   ]
  },
  {
   "cell_type": "code",
   "execution_count": 95,
   "id": "fifty-devil",
   "metadata": {},
   "outputs": [],
   "source": [
    "# Additionally, we can do NumPy-style vectorized operations directly on this same object:"
   ]
  },
  {
   "cell_type": "code",
   "execution_count": 96,
   "id": "simple-element",
   "metadata": {},
   "outputs": [
    {
     "data": {
      "text/plain": [
       "DatetimeIndex(['2019-07-04', '2019-07-05', '2019-07-06', '2019-07-07',\n",
       "               '2019-07-08', '2019-07-09', '2019-07-10', '2019-07-11',\n",
       "               '2019-07-12', '2019-07-13', '2019-07-14', '2019-07-15'],\n",
       "              dtype='datetime64[ns]', freq=None)"
      ]
     },
     "execution_count": 96,
     "metadata": {},
     "output_type": "execute_result"
    }
   ],
   "source": [
    "date + pd.to_timedelta(np.arange(12), 'D')"
   ]
  },
  {
   "cell_type": "markdown",
   "id": "alleged-tyler",
   "metadata": {},
   "source": [
    "# Pandas Time Series: Indexing by Time"
   ]
  },
  {
   "cell_type": "code",
   "execution_count": 97,
   "id": "living-draft",
   "metadata": {},
   "outputs": [],
   "source": [
    "date_index = pd.DatetimeIndex(['2019-01-15', '2019-02-15', '2019-03-15', '2019-04-15', '2021-03-15'])"
   ]
  },
  {
   "cell_type": "code",
   "execution_count": 98,
   "id": "relative-physiology",
   "metadata": {},
   "outputs": [],
   "source": [
    "time_series = pd.Series([0, 1, 2, 3, 4], index=date_index)"
   ]
  },
  {
   "cell_type": "code",
   "execution_count": 99,
   "id": "introductory-weekly",
   "metadata": {},
   "outputs": [
    {
     "data": {
      "text/plain": [
       "2019-01-15    0\n",
       "2019-02-15    1\n",
       "2019-03-15    2\n",
       "2019-04-15    3\n",
       "2021-03-15    4\n",
       "dtype: int64"
      ]
     },
     "execution_count": 99,
     "metadata": {},
     "output_type": "execute_result"
    }
   ],
   "source": [
    "time_series"
   ]
  },
  {
   "cell_type": "code",
   "execution_count": 100,
   "id": "opposed-jamaica",
   "metadata": {},
   "outputs": [
    {
     "data": {
      "text/plain": [
       "2019-01-15    0\n",
       "2019-02-15    1\n",
       "2019-03-15    2\n",
       "dtype: int64"
      ]
     },
     "execution_count": 100,
     "metadata": {},
     "output_type": "execute_result"
    }
   ],
   "source": [
    "# Now that we have this data in a Series, we can make use of any of the Series \n",
    "#i ndexing patterns we discussed in previous sections, passing values that can be coerced into dates:\n",
    "time_series['2019-01-15':'2019-03-15']"
   ]
  },
  {
   "cell_type": "code",
   "execution_count": 101,
   "id": "according-permit",
   "metadata": {},
   "outputs": [],
   "source": [
    "# There are additional special date-only indexing operations, s\n",
    "# such as passing a year to obtain a slice of all data from that year:"
   ]
  },
  {
   "cell_type": "code",
   "execution_count": 102,
   "id": "involved-transsexual",
   "metadata": {},
   "outputs": [
    {
     "data": {
      "text/plain": [
       "2021-03-15    4\n",
       "dtype: int64"
      ]
     },
     "execution_count": 102,
     "metadata": {},
     "output_type": "execute_result"
    }
   ],
   "source": [
    "time_series['2021']"
   ]
  },
  {
   "cell_type": "markdown",
   "id": "above-colony",
   "metadata": {},
   "source": [
    "# Pandas Time Series Data Structures"
   ]
  },
  {
   "cell_type": "code",
   "execution_count": 103,
   "id": "rotary-lemon",
   "metadata": {},
   "outputs": [],
   "source": [
    "# For time stamps, Pandas provides the Timestamp type. As mentioned before, it is essentially a replacement for Python's native datetime, \n",
    "# but is based on the more efficient numpy.datetime64 data type. The associated Index structure is DatetimeIndex.\n",
    "\n",
    "# For time Periods, Pandas provides the Period type. This encodes a fixed-frequency interval based on numpy.datetime64. \n",
    "# The associated index structure is PeriodIndex.\n",
    "\n",
    "# For time deltas or durations, Pandas provides the Timedelta type. \n",
    "# Timedelta is a more efficient replacement for Python's native datetime.timedelta type, \n",
    "# and is based on numpy.timedelta64. The associated index structure is TimedeltaIndex."
   ]
  },
  {
   "cell_type": "code",
   "execution_count": 104,
   "id": "handmade-picture",
   "metadata": {},
   "outputs": [
    {
     "data": {
      "text/plain": [
       "DatetimeIndex(['2015-07-03', '2015-07-04', '2015-07-06', '2015-07-07',\n",
       "               '2015-07-08'],\n",
       "              dtype='datetime64[ns]', freq=None)"
      ]
     },
     "execution_count": 104,
     "metadata": {},
     "output_type": "execute_result"
    }
   ],
   "source": [
    "# We can convert a variety of date formats into a DatetimeIndex\n",
    "dates = pd.to_datetime([datetime(2015, 7, 3), '4th of July, 2015',\n",
    "                       '2015-Jul-6', '07-07-2015', '20150708'])\n",
    "dates"
   ]
  },
  {
   "cell_type": "code",
   "execution_count": 105,
   "id": "varying-mineral",
   "metadata": {},
   "outputs": [],
   "source": [
    "# Any DatetimeIndex can be converted to a PeriodIndex with the to_period() function with the addition of a frequency code; \n",
    "# here we'll use 'D' to indicate daily frequency:"
   ]
  },
  {
   "cell_type": "code",
   "execution_count": 106,
   "id": "christian-beijing",
   "metadata": {},
   "outputs": [
    {
     "data": {
      "text/plain": [
       "PeriodIndex(['2015-07-03', '2015-07-04', '2015-07-06', '2015-07-07',\n",
       "             '2015-07-08'],\n",
       "            dtype='period[D]', freq='D')"
      ]
     },
     "execution_count": 106,
     "metadata": {},
     "output_type": "execute_result"
    }
   ],
   "source": [
    "dates.to_period('D')"
   ]
  },
  {
   "cell_type": "code",
   "execution_count": 107,
   "id": "dying-camel",
   "metadata": {},
   "outputs": [
    {
     "data": {
      "text/plain": [
       "\u001b[0;31mSignature:\u001b[0m \u001b[0mpd\u001b[0m\u001b[0;34m.\u001b[0m\u001b[0mDatetimeIndex\u001b[0m\u001b[0;34m.\u001b[0m\u001b[0mto_period\u001b[0m\u001b[0;34m(\u001b[0m\u001b[0mself\u001b[0m\u001b[0;34m,\u001b[0m \u001b[0;34m*\u001b[0m\u001b[0margs\u001b[0m\u001b[0;34m,\u001b[0m \u001b[0;34m**\u001b[0m\u001b[0mkwargs\u001b[0m\u001b[0;34m)\u001b[0m\u001b[0;34m\u001b[0m\u001b[0;34m\u001b[0m\u001b[0m\n",
       "\u001b[0;31mDocstring:\u001b[0m\n",
       "Cast to PeriodArray/Index at a particular frequency.\n",
       "\n",
       "Converts DatetimeArray/Index to PeriodArray/Index.\n",
       "\n",
       "Parameters\n",
       "----------\n",
       "freq : str or Offset, optional\n",
       "    One of pandas' :ref:`offset strings <timeseries.offset_aliases>`\n",
       "    or an Offset object. Will be inferred by default.\n",
       "\n",
       "Returns\n",
       "-------\n",
       "PeriodArray/Index\n",
       "\n",
       "Raises\n",
       "------\n",
       "ValueError\n",
       "    When converting a DatetimeArray/Index with non-regular values,\n",
       "    so that a frequency cannot be inferred.\n",
       "\n",
       "See Also\n",
       "--------\n",
       "PeriodIndex: Immutable ndarray holding ordinal values.\n",
       "DatetimeIndex.to_pydatetime: Return DatetimeIndex as object.\n",
       "\n",
       "Examples\n",
       "--------\n",
       ">>> df = pd.DataFrame({\"y\": [1, 2, 3]},\n",
       "...                   index=pd.to_datetime([\"2000-03-31 00:00:00\",\n",
       "...                                         \"2000-05-31 00:00:00\",\n",
       "...                                         \"2000-08-31 00:00:00\"]))\n",
       ">>> df.index.to_period(\"M\")\n",
       "PeriodIndex(['2000-03', '2000-05', '2000-08'],\n",
       "            dtype='period[M]', freq='M')\n",
       "\n",
       "Infer the daily frequency\n",
       "\n",
       ">>> idx = pd.date_range(\"2017-01-01\", periods=2)\n",
       ">>> idx.to_period()\n",
       "PeriodIndex(['2017-01-01', '2017-01-02'],\n",
       "            dtype='period[D]', freq='D')\n",
       "\u001b[0;31mFile:\u001b[0m      ~/.local/lib/python3.8/site-packages/pandas/core/indexes/extension.py\n",
       "\u001b[0;31mType:\u001b[0m      function\n"
      ]
     },
     "metadata": {},
     "output_type": "display_data"
    }
   ],
   "source": [
    "pd.DatetimeIndex.to_period?"
   ]
  },
  {
   "cell_type": "code",
   "execution_count": 108,
   "id": "asian-tribute",
   "metadata": {},
   "outputs": [],
   "source": [
    "# A TimedeltaIndex is created, for example, when a date is subtracted from another:"
   ]
  },
  {
   "cell_type": "code",
   "execution_count": 109,
   "id": "interim-opening",
   "metadata": {},
   "outputs": [
    {
     "data": {
      "text/plain": [
       "TimedeltaIndex(['0 days', '1 days', '3 days', '4 days', '5 days'], dtype='timedelta64[ns]', freq=None)"
      ]
     },
     "execution_count": 109,
     "metadata": {},
     "output_type": "execute_result"
    }
   ],
   "source": [
    "dates - dates[0]"
   ]
  },
  {
   "cell_type": "code",
   "execution_count": 110,
   "id": "center-bubble",
   "metadata": {},
   "outputs": [],
   "source": [
    "# We can create regular sequences"
   ]
  },
  {
   "cell_type": "code",
   "execution_count": 111,
   "id": "alleged-accessory",
   "metadata": {},
   "outputs": [
    {
     "data": {
      "text/plain": [
       "DatetimeIndex(['2015-07-03', '2015-07-04', '2015-07-05', '2015-07-06',\n",
       "               '2015-07-07', '2015-07-08', '2015-07-09', '2015-07-10'],\n",
       "              dtype='datetime64[ns]', freq='D')"
      ]
     },
     "execution_count": 111,
     "metadata": {},
     "output_type": "execute_result"
    }
   ],
   "source": [
    "pd.date_range('2015-07-03', '2015-07-10')"
   ]
  },
  {
   "cell_type": "code",
   "execution_count": 112,
   "id": "meaningful-vehicle",
   "metadata": {},
   "outputs": [
    {
     "data": {
      "text/plain": [
       "DatetimeIndex(['2015-07-03', '2015-07-04', '2015-07-05', '2015-07-06',\n",
       "               '2015-07-07', '2015-07-08', '2015-07-09', '2015-07-10'],\n",
       "              dtype='datetime64[ns]', freq='D')"
      ]
     },
     "execution_count": 112,
     "metadata": {},
     "output_type": "execute_result"
    }
   ],
   "source": [
    "pd.date_range('2015-07-03', periods=8)"
   ]
  },
  {
   "cell_type": "code",
   "execution_count": 113,
   "id": "fluid-charles",
   "metadata": {},
   "outputs": [],
   "source": [
    "# The spacing can be modified by altering the freq argument, which defaults to D. F\n",
    "# For example, here we will construct a range of hourly timestamps:"
   ]
  },
  {
   "cell_type": "code",
   "execution_count": 114,
   "id": "athletic-quick",
   "metadata": {},
   "outputs": [
    {
     "data": {
      "text/plain": [
       "DatetimeIndex(['2015-07-03 00:00:00', '2015-07-03 01:00:00',\n",
       "               '2015-07-03 02:00:00', '2015-07-03 03:00:00',\n",
       "               '2015-07-03 04:00:00', '2015-07-03 05:00:00',\n",
       "               '2015-07-03 06:00:00', '2015-07-03 07:00:00'],\n",
       "              dtype='datetime64[ns]', freq='H')"
      ]
     },
     "execution_count": 114,
     "metadata": {},
     "output_type": "execute_result"
    }
   ],
   "source": [
    "pd.date_range('2015-07-03', periods=8, freq='H')"
   ]
  },
  {
   "cell_type": "code",
   "execution_count": 115,
   "id": "governmental-acrylic",
   "metadata": {},
   "outputs": [],
   "source": [
    "# To create regular sequences of Period or Timedelta values, the very similar pd.period_range() and pd.timedelta_range() functions are useful. \n",
    "#H ere are some monthly periods:"
   ]
  },
  {
   "cell_type": "code",
   "execution_count": 116,
   "id": "golden-gauge",
   "metadata": {},
   "outputs": [
    {
     "data": {
      "text/plain": [
       "PeriodIndex(['2015-07', '2015-08', '2015-09', '2015-10', '2015-11', '2015-12',\n",
       "             '2016-01', '2016-02'],\n",
       "            dtype='period[M]', freq='M')"
      ]
     },
     "execution_count": 116,
     "metadata": {},
     "output_type": "execute_result"
    }
   ],
   "source": [
    "pd.period_range('2015-07', periods=8, freq='M') # This index stores period"
   ]
  },
  {
   "cell_type": "code",
   "execution_count": 117,
   "id": "viral-julian",
   "metadata": {},
   "outputs": [
    {
     "data": {
      "text/plain": [
       "TimedeltaIndex(['0 days 00:00:00', '0 days 01:00:00', '0 days 02:00:00',\n",
       "                '0 days 03:00:00', '0 days 04:00:00', '0 days 05:00:00',\n",
       "                '0 days 06:00:00', '0 days 07:00:00', '0 days 08:00:00',\n",
       "                '0 days 09:00:00'],\n",
       "               dtype='timedelta64[ns]', freq='H')"
      ]
     },
     "execution_count": 117,
     "metadata": {},
     "output_type": "execute_result"
    }
   ],
   "source": [
    "# And a sequence of durations increasing by an hour:\n",
    "pd.timedelta_range(0, periods=10, freq='H')"
   ]
  },
  {
   "cell_type": "code",
   "execution_count": 118,
   "id": "level-lunch",
   "metadata": {},
   "outputs": [],
   "source": [
    "# Fundamental to these Pandas time series tools is the concept of a frequency or date offset.\n",
    "# Just as we saw the D (day) and H (hour) codes above, we can use such codes to specify any desired frequency spacing.\n",
    "# There are a lot of codes - 'D' (Calendar day), 'W' (Weekly), 'M' (Month end), 'Q' (Quarter end), 'A' (Year end)\n",
    "# 'H' (Hours), 'T' (Minutes), 'S' (Seconds), 'L' (Milliseconds), 'U' (Microseconds), 'N' (Nanoseconds)\n",
    "# 'B' (Business day), 'BM' (Business month end) 'BQ' (Business quarter end), 'BA' (Business year end), 'BH' (Business Hours)"
   ]
  },
  {
   "cell_type": "code",
   "execution_count": 119,
   "id": "formed-questionnaire",
   "metadata": {},
   "outputs": [
    {
     "data": {
      "text/plain": [
       "TimedeltaIndex(['0 days 00:00:00', '0 days 02:30:00', '0 days 05:00:00',\n",
       "                '0 days 07:30:00', '0 days 10:00:00', '0 days 12:30:00',\n",
       "                '0 days 15:00:00', '0 days 17:30:00', '0 days 20:00:00'],\n",
       "               dtype='timedelta64[ns]', freq='150T')"
      ]
     },
     "execution_count": 119,
     "metadata": {},
     "output_type": "execute_result"
    }
   ],
   "source": [
    "pd.timedelta_range(0, periods=9, freq=\"2H30T\")"
   ]
  },
  {
   "cell_type": "code",
   "execution_count": 120,
   "id": "overhead-closing",
   "metadata": {},
   "outputs": [],
   "source": [
    "# All of these short codes refer to specific instances of Pandas time series offsets, which can be found in the pd.tseries.offsets module. \n",
    "# For example, we can create a business day offset directly as follows:"
   ]
  },
  {
   "cell_type": "code",
   "execution_count": 121,
   "id": "southwest-timeline",
   "metadata": {},
   "outputs": [
    {
     "data": {
      "text/plain": [
       "DatetimeIndex(['2015-07-01', '2015-07-02', '2015-07-03', '2015-07-06',\n",
       "               '2015-07-07'],\n",
       "              dtype='datetime64[ns]', freq='B')"
      ]
     },
     "execution_count": 121,
     "metadata": {},
     "output_type": "execute_result"
    }
   ],
   "source": [
    "from pandas.tseries.offsets import BDay\n",
    "pd.date_range('2015-07-01', periods=5, freq=BDay())"
   ]
  },
  {
   "cell_type": "markdown",
   "id": "cultural-governor",
   "metadata": {},
   "source": [
    "# Resampling, Shifting, Windowing"
   ]
  },
  {
   "cell_type": "code",
   "execution_count": 122,
   "id": "checked-clearing",
   "metadata": {},
   "outputs": [
    {
     "name": "stdout",
     "output_type": "stream",
     "text": [
      "Requirement already satisfied: pandas-datareader in /home/nick/.local/lib/python3.8/site-packages (0.9.0)\n",
      "Requirement already satisfied: requests>=2.19.0 in /usr/lib/python3/dist-packages (from pandas-datareader) (2.22.0)\n",
      "Requirement already satisfied: lxml in /home/nick/.local/lib/python3.8/site-packages (from pandas-datareader) (4.6.2)\n",
      "Requirement already satisfied: pandas>=0.23 in /home/nick/.local/lib/python3.8/site-packages (from pandas-datareader) (1.1.4)\n",
      "Requirement already satisfied: numpy>=1.15.4 in /home/nick/.local/lib/python3.8/site-packages (from pandas>=0.23->pandas-datareader) (1.19.4)\n",
      "Requirement already satisfied: python-dateutil>=2.7.3 in /usr/lib/python3/dist-packages (from pandas>=0.23->pandas-datareader) (2.7.3)\n",
      "Requirement already satisfied: pytz>=2017.2 in /usr/lib/python3/dist-packages (from pandas>=0.23->pandas-datareader) (2019.3)\n"
     ]
    }
   ],
   "source": [
    "!pip3 install pandas-datareader"
   ]
  },
  {
   "cell_type": "code",
   "execution_count": 123,
   "id": "published-rolling",
   "metadata": {},
   "outputs": [
    {
     "data": {
      "text/html": [
       "<div>\n",
       "<style scoped>\n",
       "    .dataframe tbody tr th:only-of-type {\n",
       "        vertical-align: middle;\n",
       "    }\n",
       "\n",
       "    .dataframe tbody tr th {\n",
       "        vertical-align: top;\n",
       "    }\n",
       "\n",
       "    .dataframe thead th {\n",
       "        text-align: right;\n",
       "    }\n",
       "</style>\n",
       "<table border=\"1\" class=\"dataframe\">\n",
       "  <thead>\n",
       "    <tr style=\"text-align: right;\">\n",
       "      <th></th>\n",
       "      <th>High</th>\n",
       "      <th>Low</th>\n",
       "      <th>Open</th>\n",
       "      <th>Close</th>\n",
       "      <th>Volume</th>\n",
       "      <th>Adj Close</th>\n",
       "    </tr>\n",
       "    <tr>\n",
       "      <th>Date</th>\n",
       "      <th></th>\n",
       "      <th></th>\n",
       "      <th></th>\n",
       "      <th></th>\n",
       "      <th></th>\n",
       "      <th></th>\n",
       "    </tr>\n",
       "  </thead>\n",
       "  <tbody>\n",
       "    <tr>\n",
       "      <th>2004-08-19</th>\n",
       "      <td>51.835709</td>\n",
       "      <td>47.800831</td>\n",
       "      <td>49.813290</td>\n",
       "      <td>49.982655</td>\n",
       "      <td>44871361.0</td>\n",
       "      <td>49.982655</td>\n",
       "    </tr>\n",
       "    <tr>\n",
       "      <th>2004-08-20</th>\n",
       "      <td>54.336334</td>\n",
       "      <td>50.062355</td>\n",
       "      <td>50.316402</td>\n",
       "      <td>53.952770</td>\n",
       "      <td>22942874.0</td>\n",
       "      <td>53.952770</td>\n",
       "    </tr>\n",
       "    <tr>\n",
       "      <th>2004-08-23</th>\n",
       "      <td>56.528118</td>\n",
       "      <td>54.321388</td>\n",
       "      <td>55.168217</td>\n",
       "      <td>54.495735</td>\n",
       "      <td>18342897.0</td>\n",
       "      <td>54.495735</td>\n",
       "    </tr>\n",
       "    <tr>\n",
       "      <th>2004-08-24</th>\n",
       "      <td>55.591629</td>\n",
       "      <td>51.591621</td>\n",
       "      <td>55.412300</td>\n",
       "      <td>52.239197</td>\n",
       "      <td>15319808.0</td>\n",
       "      <td>52.239197</td>\n",
       "    </tr>\n",
       "    <tr>\n",
       "      <th>2004-08-25</th>\n",
       "      <td>53.798351</td>\n",
       "      <td>51.746044</td>\n",
       "      <td>52.284027</td>\n",
       "      <td>52.802086</td>\n",
       "      <td>9232276.0</td>\n",
       "      <td>52.802086</td>\n",
       "    </tr>\n",
       "  </tbody>\n",
       "</table>\n",
       "</div>"
      ],
      "text/plain": [
       "                 High        Low       Open      Close      Volume  Adj Close\n",
       "Date                                                                         \n",
       "2004-08-19  51.835709  47.800831  49.813290  49.982655  44871361.0  49.982655\n",
       "2004-08-20  54.336334  50.062355  50.316402  53.952770  22942874.0  53.952770\n",
       "2004-08-23  56.528118  54.321388  55.168217  54.495735  18342897.0  54.495735\n",
       "2004-08-24  55.591629  51.591621  55.412300  52.239197  15319808.0  52.239197\n",
       "2004-08-25  53.798351  51.746044  52.284027  52.802086   9232276.0  52.802086"
      ]
     },
     "execution_count": 123,
     "metadata": {},
     "output_type": "execute_result"
    }
   ],
   "source": [
    "from pandas_datareader import data\n",
    "\n",
    "goog = data.DataReader('GOOG', start='2004', end='2016',\n",
    "                       data_source='yahoo')\n",
    "goog.head()"
   ]
  },
  {
   "cell_type": "code",
   "execution_count": 124,
   "id": "above-michael",
   "metadata": {},
   "outputs": [],
   "source": [
    "# For simplicity, we'll use just the closing price:"
   ]
  },
  {
   "cell_type": "code",
   "execution_count": 125,
   "id": "neither-testament",
   "metadata": {},
   "outputs": [],
   "source": [
    "goog = goog['Close']"
   ]
  },
  {
   "cell_type": "code",
   "execution_count": 126,
   "id": "fixed-dress",
   "metadata": {},
   "outputs": [],
   "source": [
    "%matplotlib inline\n",
    "import matplotlib.pyplot as plt\n",
    "import seaborn; seaborn.set()"
   ]
  },
  {
   "cell_type": "code",
   "execution_count": 127,
   "id": "amateur-trinity",
   "metadata": {},
   "outputs": [
    {
     "data": {
      "image/png": "[encoded data removed]",
      "text/plain": [
       "<Figure size 432x288 with 1 Axes>"
      ]
     },
     "metadata": {},
     "output_type": "display_data"
    }
   ],
   "source": [
    "goog.plot();"
   ]
  },
  {
   "cell_type": "code",
   "execution_count": 129,
   "id": "piano-antibody",
   "metadata": {},
   "outputs": [
    {
     "data": {
      "text/plain": [
       "Date\n",
       "2004-08-19    49.982655\n",
       "2004-08-20    53.952770\n",
       "2004-08-23    54.495735\n",
       "2004-08-24    52.239197\n",
       "2004-08-25    52.802086\n",
       "Name: Close, dtype: float64"
      ]
     },
     "execution_count": 129,
     "metadata": {},
     "output_type": "execute_result"
    }
   ],
   "source": [
    "goog.head()"
   ]
  },
  {
   "cell_type": "code",
   "execution_count": 130,
   "id": "prerequisite-fundamental",
   "metadata": {},
   "outputs": [
    {
     "data": {
      "image/png": "[encoded data removed]",
      "text/plain": [
       "<Figure size 432x288 with 1 Axes>"
      ]
     },
     "metadata": {},
     "output_type": "display_data"
    }
   ],
   "source": [
    "goog.plot(alpha=0.5, style='-')\n",
    "goog.resample('BA').mean().plot(style=':')\n",
    "goog.asfreq('BA').plot(style='--');\n",
    "plt.legend(['input', 'resample', 'asfreq'],\n",
    "           loc='upper left');"
   ]
  },
  {
   "cell_type": "code",
   "execution_count": 133,
   "id": "blind-willow",
   "metadata": {},
   "outputs": [
    {
     "name": "stdout",
     "output_type": "stream",
     "text": [
      "Object `matplotlib.pyplot.plot` not found.\n"
     ]
    }
   ],
   "source": []
  },
  {
   "cell_type": "code",
   "execution_count": null,
   "id": "successful-lithuania",
   "metadata": {},
   "outputs": [],
   "source": []
  }
 ],
 "metadata": {
  "kernelspec": {
   "display_name": "Python 3",
   "language": "python",
   "name": "python3"
  },
  "language_info": {
   "codemirror_mode": {
    "name": "ipython",
    "version": 3
   },
   "file_extension": ".py",
   "mimetype": "text/x-python",
   "name": "python",
   "nbconvert_exporter": "python",
   "pygments_lexer": "ipython3",
   "version": "3.8.5"
  }
 },
 "nbformat": 4,
 "nbformat_minor": 5
}
