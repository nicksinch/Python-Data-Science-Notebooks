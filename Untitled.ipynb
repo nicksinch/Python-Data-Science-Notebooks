{
 "cells": [
  {
   "cell_type": "code",
   "execution_count": 1,
   "id": "western-working",
   "metadata": {},
   "outputs": [],
   "source": [
    "import numpy as np"
   ]
  },
  {
   "cell_type": "code",
   "execution_count": 2,
   "id": "transparent-chinese",
   "metadata": {},
   "outputs": [],
   "source": [
    "X = np.random.rand(10,2)"
   ]
  },
  {
   "cell_type": "code",
   "execution_count": 3,
   "id": "emerging-briefs",
   "metadata": {},
   "outputs": [],
   "source": [
    "X"
   ]
  },
  {
   "cell_type": "code",
   "execution_count": 6,
   "id": "superior-amateur",
   "metadata": {},
   "outputs": [
    {
     "data": {
      "image/png": "[encoded data removed]",
      "text/plain": [
       "<Figure size 432x288 with 1 Axes>"
      ]
     },
     "metadata": {},
     "output_type": "display_data"
    }
   ],
   "source": [
    "%matplotlib inline\n",
    "import matplotlib.pyplot as plt\n",
    "import seaborn; seaborn.set() # Plot styling\n",
    "plt.scatter(X[:, 0], X[:, 1], s=100);"
   ]
  },
  {
   "cell_type": "code",
   "execution_count": 27,
   "id": "given-robertson",
   "metadata": {},
   "outputs": [
    {
     "data": {
      "text/plain": [
       "array([[0.45449246, 0.05553523],\n",
       "       [0.82903141, 0.01987407],\n",
       "       [0.65339877, 0.21413842],\n",
       "       [0.50904851, 0.36787423],\n",
       "       [0.2710395 , 0.89974566],\n",
       "       [0.70263291, 0.31233185],\n",
       "       [0.6320865 , 0.16606617],\n",
       "       [0.1982665 , 0.39746372],\n",
       "       [0.36248038, 0.59322361],\n",
       "       [0.44909019, 0.54717649]])"
      ]
     },
     "execution_count": 27,
     "metadata": {},
     "output_type": "execute_result"
    }
   ],
   "source": [
    "X"
   ]
  },
  {
   "cell_type": "code",
   "execution_count": 28,
   "id": "negative-vision",
   "metadata": {},
   "outputs": [
    {
     "data": {
      "text/plain": [
       "(10, 2)"
      ]
     },
     "execution_count": 28,
     "metadata": {},
     "output_type": "execute_result"
    }
   ],
   "source": [
    "X.shape"
   ]
  },
  {
   "cell_type": "code",
   "execution_count": 29,
   "id": "animal-terrorist",
   "metadata": {},
   "outputs": [
    {
     "data": {
      "text/plain": [
       "(10, 1, 2)"
      ]
     },
     "execution_count": 29,
     "metadata": {},
     "output_type": "execute_result"
    }
   ],
   "source": [
    "X[:,np.newaxis,:].shape"
   ]
  },
  {
   "cell_type": "code",
   "execution_count": 30,
   "id": "unauthorized-texture",
   "metadata": {},
   "outputs": [
    {
     "data": {
      "text/plain": [
       "array([[[0.45449246, 0.05553523]],\n",
       "\n",
       "       [[0.82903141, 0.01987407]],\n",
       "\n",
       "       [[0.65339877, 0.21413842]],\n",
       "\n",
       "       [[0.50904851, 0.36787423]],\n",
       "\n",
       "       [[0.2710395 , 0.89974566]],\n",
       "\n",
       "       [[0.70263291, 0.31233185]],\n",
       "\n",
       "       [[0.6320865 , 0.16606617]],\n",
       "\n",
       "       [[0.1982665 , 0.39746372]],\n",
       "\n",
       "       [[0.36248038, 0.59322361]],\n",
       "\n",
       "       [[0.44909019, 0.54717649]]])"
      ]
     },
     "execution_count": 30,
     "metadata": {},
     "output_type": "execute_result"
    }
   ],
   "source": [
    "X[:,np.newaxis,:]"
   ]
  },
  {
   "cell_type": "code",
   "execution_count": 32,
   "id": "minimal-instruction",
   "metadata": {},
   "outputs": [
    {
     "data": {
      "text/plain": [
       "array([[[0.45449246, 0.05553523],\n",
       "        [0.82903141, 0.01987407],\n",
       "        [0.65339877, 0.21413842],\n",
       "        [0.50904851, 0.36787423],\n",
       "        [0.2710395 , 0.89974566],\n",
       "        [0.70263291, 0.31233185],\n",
       "        [0.6320865 , 0.16606617],\n",
       "        [0.1982665 , 0.39746372],\n",
       "        [0.36248038, 0.59322361],\n",
       "        [0.44909019, 0.54717649]]])"
      ]
     },
     "execution_count": 32,
     "metadata": {},
     "output_type": "execute_result"
    }
   ],
   "source": [
    "X[np.newaxis,:,:]"
   ]
  },
  {
   "cell_type": "code",
   "execution_count": 33,
   "id": "secret-comparative",
   "metadata": {},
   "outputs": [],
   "source": [
    "differences = X[:, np.newaxis, :] - X[np.newaxis, :, :]"
   ]
  },
  {
   "cell_type": "code",
   "execution_count": 36,
   "id": "mediterranean-wilson",
   "metadata": {},
   "outputs": [
    {
     "data": {
      "text/plain": [
       "array([[[ 0.        ,  0.        ],\n",
       "        [-0.37453895,  0.03566116],\n",
       "        [-0.19890632, -0.15860319],\n",
       "        [-0.05455606, -0.312339  ],\n",
       "        [ 0.18345295, -0.84421043],\n",
       "        [-0.24814045, -0.25679662],\n",
       "        [-0.17759404, -0.11053094],\n",
       "        [ 0.25622596, -0.34192849],\n",
       "        [ 0.09201208, -0.53768838],\n",
       "        [ 0.00540226, -0.49164126]],\n",
       "\n",
       "       [[ 0.37453895, -0.03566116],\n",
       "        [ 0.        ,  0.        ],\n",
       "        [ 0.17563264, -0.19426435],\n",
       "        [ 0.3199829 , -0.34800016],\n",
       "        [ 0.55799191, -0.87987159],\n",
       "        [ 0.1263985 , -0.29245778],\n",
       "        [ 0.19694491, -0.1461921 ],\n",
       "        [ 0.63076491, -0.37758965],\n",
       "        [ 0.46655103, -0.57334954],\n",
       "        [ 0.37994121, -0.52730242]],\n",
       "\n",
       "       [[ 0.19890632,  0.15860319],\n",
       "        [-0.17563264,  0.19426435],\n",
       "        [ 0.        ,  0.        ],\n",
       "        [ 0.14435026, -0.15373581],\n",
       "        [ 0.38235927, -0.68560724],\n",
       "        [-0.04923414, -0.09819343],\n",
       "        [ 0.02131228,  0.04807225],\n",
       "        [ 0.45513228, -0.1833253 ],\n",
       "        [ 0.29091839, -0.37908519],\n",
       "        [ 0.20430858, -0.33303807]],\n",
       "\n",
       "       [[ 0.05455606,  0.312339  ],\n",
       "        [-0.3199829 ,  0.34800016],\n",
       "        [-0.14435026,  0.15373581],\n",
       "        [ 0.        ,  0.        ],\n",
       "        [ 0.23800901, -0.53187142],\n",
       "        [-0.1935844 ,  0.05554238],\n",
       "        [-0.12303798,  0.20180807],\n",
       "        [ 0.31078202, -0.02958949],\n",
       "        [ 0.14656813, -0.22534938],\n",
       "        [ 0.05995832, -0.17930226]],\n",
       "\n",
       "       [[-0.18345295,  0.84421043],\n",
       "        [-0.55799191,  0.87987159],\n",
       "        [-0.38235927,  0.68560724],\n",
       "        [-0.23800901,  0.53187142],\n",
       "        [ 0.        ,  0.        ],\n",
       "        [-0.43159341,  0.5874138 ],\n",
       "        [-0.36104699,  0.73367949],\n",
       "        [ 0.07277301,  0.50228194],\n",
       "        [-0.09144088,  0.30652204],\n",
       "        [-0.17805069,  0.35256917]],\n",
       "\n",
       "       [[ 0.24814045,  0.25679662],\n",
       "        [-0.1263985 ,  0.29245778],\n",
       "        [ 0.04923414,  0.09819343],\n",
       "        [ 0.1935844 , -0.05554238],\n",
       "        [ 0.43159341, -0.5874138 ],\n",
       "        [ 0.        ,  0.        ],\n",
       "        [ 0.07054641,  0.14626569],\n",
       "        [ 0.50436641, -0.08513187],\n",
       "        [ 0.34015253, -0.28089176],\n",
       "        [ 0.25354272, -0.23484464]],\n",
       "\n",
       "       [[ 0.17759404,  0.11053094],\n",
       "        [-0.19694491,  0.1461921 ],\n",
       "        [-0.02131228, -0.04807225],\n",
       "        [ 0.12303798, -0.20180807],\n",
       "        [ 0.36104699, -0.73367949],\n",
       "        [-0.07054641, -0.14626569],\n",
       "        [ 0.        ,  0.        ],\n",
       "        [ 0.43382   , -0.23139755],\n",
       "        [ 0.26960612, -0.42715745],\n",
       "        [ 0.1829963 , -0.38111032]],\n",
       "\n",
       "       [[-0.25622596,  0.34192849],\n",
       "        [-0.63076491,  0.37758965],\n",
       "        [-0.45513228,  0.1833253 ],\n",
       "        [-0.31078202,  0.02958949],\n",
       "        [-0.07277301, -0.50228194],\n",
       "        [-0.50436641,  0.08513187],\n",
       "        [-0.43382   ,  0.23139755],\n",
       "        [ 0.        ,  0.        ],\n",
       "        [-0.16421388, -0.19575989],\n",
       "        [-0.2508237 , -0.14971277]],\n",
       "\n",
       "       [[-0.09201208,  0.53768838],\n",
       "        [-0.46655103,  0.57334954],\n",
       "        [-0.29091839,  0.37908519],\n",
       "        [-0.14656813,  0.22534938],\n",
       "        [ 0.09144088, -0.30652204],\n",
       "        [-0.34015253,  0.28089176],\n",
       "        [-0.26960612,  0.42715745],\n",
       "        [ 0.16421388,  0.19575989],\n",
       "        [ 0.        ,  0.        ],\n",
       "        [-0.08660982,  0.04604712]],\n",
       "\n",
       "       [[-0.00540226,  0.49164126],\n",
       "        [-0.37994121,  0.52730242],\n",
       "        [-0.20430858,  0.33303807],\n",
       "        [-0.05995832,  0.17930226],\n",
       "        [ 0.17805069, -0.35256917],\n",
       "        [-0.25354272,  0.23484464],\n",
       "        [-0.1829963 ,  0.38111032],\n",
       "        [ 0.2508237 ,  0.14971277],\n",
       "        [ 0.08660982, -0.04604712],\n",
       "        [ 0.        ,  0.        ]]])"
      ]
     },
     "execution_count": 36,
     "metadata": {},
     "output_type": "execute_result"
    }
   ],
   "source": [
    "differences"
   ]
  },
  {
   "cell_type": "code",
   "execution_count": 37,
   "id": "classified-shape",
   "metadata": {},
   "outputs": [
    {
     "data": {
      "text/plain": [
       "dtype('<U')"
      ]
     },
     "execution_count": 37,
     "metadata": {},
     "output_type": "execute_result"
    }
   ],
   "source": [
    "np.dtype('U')"
   ]
  },
  {
   "cell_type": "code",
   "execution_count": 38,
   "id": "confirmed-profile",
   "metadata": {},
   "outputs": [],
   "source": [
    "tp = np.dtype([('id', 'i8'), ('mat', 'f8', (3, 3))])"
   ]
  },
  {
   "cell_type": "code",
   "execution_count": 39,
   "id": "aware-italian",
   "metadata": {},
   "outputs": [],
   "source": [
    "X = np.zeros(1, dtype=tp)"
   ]
  },
  {
   "cell_type": "code",
   "execution_count": 40,
   "id": "included-eclipse",
   "metadata": {},
   "outputs": [
    {
     "data": {
      "text/plain": [
       "1"
      ]
     },
     "execution_count": 40,
     "metadata": {},
     "output_type": "execute_result"
    }
   ],
   "source": [
    "len(X)"
   ]
  },
  {
   "cell_type": "code",
   "execution_count": null,
   "id": "negative-border",
   "metadata": {},
   "outputs": [],
   "source": []
  }
 ],
 "metadata": {
  "kernelspec": {
   "display_name": "Python 3",
   "language": "python",
   "name": "python3"
  },
  "language_info": {
   "codemirror_mode": {
    "name": "ipython",
    "version": 3
   },
   "file_extension": ".py",
   "mimetype": "text/x-python",
   "name": "python",
   "nbconvert_exporter": "python",
   "pygments_lexer": "ipython3",
   "version": "3.8.5"
  }
 },
 "nbformat": 4,
 "nbformat_minor": 5
}
